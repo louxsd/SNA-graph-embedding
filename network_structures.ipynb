{
 "cells": [
  {
   "cell_type": "markdown",
   "metadata": {},
   "source": [
    "# Step 0 - Preparations"
   ]
  },
  {
   "cell_type": "markdown",
   "metadata": {},
   "source": [
    "## Step 0.1 Install & Load the Necessary Libraries"
   ]
  },
  {
   "cell_type": "code",
   "execution_count": 3,
   "metadata": {},
   "outputs": [],
   "source": [
    "#!pip install stellargraph"
   ]
  },
  {
   "cell_type": "code",
   "execution_count": 4,
   "metadata": {},
   "outputs": [],
   "source": [
    "#standard libraries\n",
    "import numpy as np\n",
    "import pandas as pd\n",
    "import matplotlib.pyplot as plt\n",
    "\n",
    "#graph library\n",
    "import networkx as nx\n",
    "\n",
    "#stellargraph - NOTE: execute fist the pip command above\n",
    "# from stellargraph import StellarGraph, datasets\n",
    "# from stellargraph.data import EdgeSplitter\n",
    "# from stellargraph.data import BiasedRandomWalk\n",
    "\n",
    "#word2vec\n",
    "from gensim.models import Word2Vec\n",
    "\n",
    "#sklearn\n",
    "from sklearn.model_selection import train_test_split\n",
    "from sklearn.pipeline import Pipeline\n",
    "from sklearn.linear_model import LogisticRegressionCV\n",
    "from sklearn.metrics import roc_auc_score\n",
    "from sklearn.preprocessing import StandardScaler\n",
    "from sklearn.linear_model import LogisticRegressionCV\n",
    "from sklearn.decomposition import PCA\n",
    "\n",
    "#futher libraries\n",
    "import multiprocessing"
   ]
  },
  {
   "cell_type": "markdown",
   "metadata": {},
   "source": [
    "## Step 0.2 Load the Data"
   ]
  },
  {
   "cell_type": "markdown",
   "metadata": {},
   "source": [
    "### Path Structure\n",
    "\n",
    "These constants are used for dataset reading/writing. The `EDGES_PATH` is a subfolder of the dataset directory, and will hold the dataframes with the edge information to build the individual networks.\n",
    "The intended directory structure is:\n",
    "```\n",
    "- network_structures.ipynb\n",
    "- sna_python_handson.ipynb\n",
    "\n",
    "- dataset/\n",
    "\n",
    "-- raw_data/\n",
    "----- [files downloaded from TUWEL]\n",
    "\n",
    "-- edges/\n",
    "----- [files containing edge information]\n",
    "\n",
    "-- embeddings/\n",
    "----- [containins the produced embeddings]\n",
    "\n",
    "```"
   ]
  },
  {
   "cell_type": "code",
   "execution_count": 5,
   "metadata": {
    "pycharm": {
     "name": "#%%\n"
    }
   },
   "outputs": [],
   "source": [
    "ROOT_PATH = \"./dataset/\"\n",
    "\n",
    "RAW_DATA = f\"{ROOT_PATH}raw_data/\"\n",
    "EDGES_PATH = f\"{ROOT_PATH}edges/\"\n",
    "EMBEDDINGS_PATH = f\"{ROOT_PATH}embeddings/\"\n",
    "\n",
    "\n",
    "FOLLOW_IGNORE_PATH = f\"{RAW_DATA}Following_Ignoring_Relationships_01052019_31052019.csv\"\n",
    "VOTES_1_PATH = f\"{RAW_DATA}Votes_01052019_15052019.csv\"\n",
    "VOTES_2_PATH = f\"{RAW_DATA}Votes_16052019_31052019.csv\"\n",
    "VOTES_PATH = f\"{RAW_DATA}Votes.csv\"\n",
    "POSTINGS_1_PATH = f\"{RAW_DATA}Postings_01052019_15052019.csv\"\n",
    "POSTINGS_2_PATH = f\"{RAW_DATA}Postings_16052019_31052019.csv\"\n",
    "POSTINGS_PATH = f\"{RAW_DATA}Postings.csv\""
   ]
  },
  {
   "cell_type": "markdown",
   "metadata": {},
   "source": [
    "The votings and posts tables have been split up into two parts, for size reasons. However, combining them does not lead to an overly large filesize, and will simplify things later on."
   ]
  },
  {
   "cell_type": "code",
   "execution_count": 6,
   "metadata": {
    "pycharm": {
     "name": "#%%\n"
    }
   },
   "outputs": [],
   "source": [
    "data_postings_1 = pd.read_csv(POSTINGS_1_PATH, sep=\";\")\n",
    "data_postings_2 = pd.read_csv(POSTINGS_2_PATH, sep=\";\")\n",
    "data_votes_1 = pd.read_csv(VOTES_1_PATH, sep=\";\")\n",
    "data_votes_2 = pd.read_csv(VOTES_2_PATH, sep=\";\")\n",
    "\n",
    "data_postings = data_postings_1.append(data_postings_2, ignore_index=True, verify_integrity=True)\n",
    "data_votes = data_votes_1.append(data_votes_2, ignore_index=True, verify_integrity=True)\n",
    "\n",
    "data_postings.to_csv(POSTINGS_PATH, sep=\";\", index=False)\n",
    "data_votes.to_csv(VOTES_PATH, sep=\";\", index=False)"
   ]
  },
  {
   "cell_type": "code",
   "execution_count": 7,
   "metadata": {
    "pycharm": {
     "name": "#%%\n"
    }
   },
   "outputs": [
    {
     "name": "stdout",
     "output_type": "stream",
     "text": [
      "Index(['ID_CommunityIdentity', 'ID_Posting', 'VoteNegative', 'VotePositive',\n",
      "       'VoteCreatedAt', 'UserCommunityName', 'UserGender', 'UserCreatedAt'],\n",
      "      dtype='object')\n",
      "Index(['ID_Posting', 'ID_Posting_Parent', 'ID_CommunityIdentity',\n",
      "       'PostingHeadline', 'PostingComment', 'PostingCreatedAt', 'ID_Article',\n",
      "       'ArticlePublishingDate', 'ArticleTitle', 'ArticleChannel',\n",
      "       'ArticleRessortName', 'UserCommunityName', 'UserGender',\n",
      "       'UserCreatedAt'],\n",
      "      dtype='object')\n"
     ]
    }
   ],
   "source": [
    "print(data_votes.columns)\n",
    "print(data_postings.columns)"
   ]
  },
  {
   "cell_type": "markdown",
   "metadata": {},
   "source": [
    "## Step 1 Create the graphs"
   ]
  },
  {
   "cell_type": "markdown",
   "metadata": {},
   "source": [
    "### Follow/Ignore Network\n",
    "\n",
    "In this block, we build the follow network and the ignore network (they are separate networks, but could be combined as well). A directed edge from node `v` to node `w` indicates that user `v` follows/ignores user `w`."
   ]
  },
  {
   "cell_type": "code",
   "execution_count": 8,
   "metadata": {
    "pycharm": {
     "name": "#%%\n"
    }
   },
   "outputs": [
    {
     "data": {
      "text/html": [
       "<div>\n",
       "<style scoped>\n",
       "    .dataframe tbody tr th:only-of-type {\n",
       "        vertical-align: middle;\n",
       "    }\n",
       "\n",
       "    .dataframe tbody tr th {\n",
       "        vertical-align: top;\n",
       "    }\n",
       "\n",
       "    .dataframe thead th {\n",
       "        text-align: right;\n",
       "    }\n",
       "</style>\n",
       "<table border=\"1\" class=\"dataframe\">\n",
       "  <thead>\n",
       "    <tr style=\"text-align: right;\">\n",
       "      <th></th>\n",
       "      <th>ID_CommunityIdentity</th>\n",
       "      <th>ID_CommunityIdentityConnectedTo</th>\n",
       "      <th>ID_CommunityConnectionType</th>\n",
       "    </tr>\n",
       "  </thead>\n",
       "  <tbody>\n",
       "    <tr>\n",
       "      <th>0</th>\n",
       "      <td>1778</td>\n",
       "      <td>246490</td>\n",
       "      <td>1</td>\n",
       "    </tr>\n",
       "    <tr>\n",
       "      <th>1</th>\n",
       "      <td>5872</td>\n",
       "      <td>5872</td>\n",
       "      <td>1</td>\n",
       "    </tr>\n",
       "    <tr>\n",
       "      <th>2</th>\n",
       "      <td>9030</td>\n",
       "      <td>23875</td>\n",
       "      <td>1</td>\n",
       "    </tr>\n",
       "    <tr>\n",
       "      <th>3</th>\n",
       "      <td>9030</td>\n",
       "      <td>508504</td>\n",
       "      <td>1</td>\n",
       "    </tr>\n",
       "    <tr>\n",
       "      <th>4</th>\n",
       "      <td>10569</td>\n",
       "      <td>10569</td>\n",
       "      <td>1</td>\n",
       "    </tr>\n",
       "  </tbody>\n",
       "</table>\n",
       "</div>"
      ],
      "text/plain": [
       "   ID_CommunityIdentity  ID_CommunityIdentityConnectedTo  \\\n",
       "0                  1778                           246490   \n",
       "1                  5872                             5872   \n",
       "2                  9030                            23875   \n",
       "3                  9030                           508504   \n",
       "4                 10569                            10569   \n",
       "\n",
       "   ID_CommunityConnectionType  \n",
       "0                           1  \n",
       "1                           1  \n",
       "2                           1  \n",
       "3                           1  \n",
       "4                           1  "
      ]
     },
     "execution_count": 8,
     "metadata": {},
     "output_type": "execute_result"
    }
   ],
   "source": [
    "data_follow_ignore = pd.read_csv(FOLLOW_IGNORE_PATH, sep=\";\")\n",
    "data_follow_ignore.head()"
   ]
  },
  {
   "cell_type": "code",
   "execution_count": 9,
   "metadata": {
    "pycharm": {
     "name": "#%%\n"
    }
   },
   "outputs": [],
   "source": [
    "data_follow = data_follow_ignore[data_follow_ignore[\"ID_CommunityConnectionType\"] == 1]\n",
    "data_ignore = data_follow_ignore[data_follow_ignore[\"ID_CommunityConnectionType\"] == 2]"
   ]
  },
  {
   "cell_type": "code",
   "execution_count": 10,
   "metadata": {
    "pycharm": {
     "name": "#%%\n"
    }
   },
   "outputs": [],
   "source": [
    "edge_list = np.dstack((\n",
    "    data_follow[\"ID_CommunityIdentity\"].values,\n",
    "    data_follow[\"ID_CommunityIdentityConnectedTo\"].values\n",
    "))[0]\n",
    "edges_df = pd.DataFrame(edge_list, columns=[\"follower\", \"followed\"])\n",
    "edges_df.to_csv(f\"{EDGES_PATH}follow_edges.csv\", sep=\" \", index=False, header=False)"
   ]
  },
  {
   "cell_type": "code",
   "execution_count": 11,
   "metadata": {
    "pycharm": {
     "name": "#%%\n"
    }
   },
   "outputs": [],
   "source": [
    "edge_list = np.dstack((\n",
    "    data_ignore[\"ID_CommunityIdentity\"].values,\n",
    "    data_ignore[\"ID_CommunityIdentityConnectedTo\"].values\n",
    "))[0]\n",
    "edges_df = pd.DataFrame(edge_list, columns=[\"ignorer\", \"ignored\"])\n",
    "edges_df.to_csv(f\"{EDGES_PATH}ignore_edges.csv\", sep=\" \", index=False, header=False)"
   ]
  },
  {
   "cell_type": "markdown",
   "metadata": {},
   "source": [
    "### Positive/Negative Votes Network\n",
    "\n",
    "In this block, we construct the network of positive/negative votes (they are again separate networks, but could be combined). A directed edge from node `v` to node `w` indicates that user `v` up-/down-votes user `w`."
   ]
  },
  {
   "cell_type": "code",
   "execution_count": 12,
   "metadata": {
    "pycharm": {
     "name": "#%%\n"
    }
   },
   "outputs": [],
   "source": [
    "data_postings = pd.read_csv(POSTINGS_PATH, sep=\";\")\n",
    "data_votes = pd.read_csv(VOTES_PATH, sep=\";\")"
   ]
  },
  {
   "cell_type": "code",
   "execution_count": 13,
   "metadata": {
    "pycharm": {
     "name": "#%%\n"
    }
   },
   "outputs": [],
   "source": [
    "data_votes = data_votes[data_votes.columns[:4]]\n",
    "data_postings = data_postings[[\"ID_Posting\", \"ID_CommunityIdentity\"]].rename(columns={\"ID_CommunityIdentity\": \"ID_Poster\"})"
   ]
  },
  {
   "cell_type": "code",
   "execution_count": 14,
   "metadata": {
    "pycharm": {
     "name": "#%%\n"
    }
   },
   "outputs": [
    {
     "data": {
      "text/html": [
       "<div>\n",
       "<style scoped>\n",
       "    .dataframe tbody tr th:only-of-type {\n",
       "        vertical-align: middle;\n",
       "    }\n",
       "\n",
       "    .dataframe tbody tr th {\n",
       "        vertical-align: top;\n",
       "    }\n",
       "\n",
       "    .dataframe thead th {\n",
       "        text-align: right;\n",
       "    }\n",
       "</style>\n",
       "<table border=\"1\" class=\"dataframe\">\n",
       "  <thead>\n",
       "    <tr style=\"text-align: right;\">\n",
       "      <th></th>\n",
       "      <th>ID_CommunityIdentity</th>\n",
       "      <th>ID_Posting</th>\n",
       "      <th>VoteNegative</th>\n",
       "      <th>VotePositive</th>\n",
       "      <th>ID_Poster</th>\n",
       "    </tr>\n",
       "  </thead>\n",
       "  <tbody>\n",
       "    <tr>\n",
       "      <th>0</th>\n",
       "      <td>675862</td>\n",
       "      <td>1041076570</td>\n",
       "      <td>1</td>\n",
       "      <td>0</td>\n",
       "      <td>691035</td>\n",
       "    </tr>\n",
       "    <tr>\n",
       "      <th>1</th>\n",
       "      <td>689023</td>\n",
       "      <td>1041076570</td>\n",
       "      <td>1</td>\n",
       "      <td>0</td>\n",
       "      <td>691035</td>\n",
       "    </tr>\n",
       "    <tr>\n",
       "      <th>2</th>\n",
       "      <td>24810</td>\n",
       "      <td>1041076745</td>\n",
       "      <td>0</td>\n",
       "      <td>1</td>\n",
       "      <td>581068</td>\n",
       "    </tr>\n",
       "    <tr>\n",
       "      <th>3</th>\n",
       "      <td>673781</td>\n",
       "      <td>1041076745</td>\n",
       "      <td>0</td>\n",
       "      <td>1</td>\n",
       "      <td>581068</td>\n",
       "    </tr>\n",
       "    <tr>\n",
       "      <th>4</th>\n",
       "      <td>24810</td>\n",
       "      <td>1041076831</td>\n",
       "      <td>0</td>\n",
       "      <td>1</td>\n",
       "      <td>76577</td>\n",
       "    </tr>\n",
       "    <tr>\n",
       "      <th>5</th>\n",
       "      <td>40177</td>\n",
       "      <td>1041076831</td>\n",
       "      <td>0</td>\n",
       "      <td>1</td>\n",
       "      <td>76577</td>\n",
       "    </tr>\n",
       "    <tr>\n",
       "      <th>6</th>\n",
       "      <td>581068</td>\n",
       "      <td>1041076831</td>\n",
       "      <td>0</td>\n",
       "      <td>1</td>\n",
       "      <td>76577</td>\n",
       "    </tr>\n",
       "    <tr>\n",
       "      <th>7</th>\n",
       "      <td>68791</td>\n",
       "      <td>1041077081</td>\n",
       "      <td>1</td>\n",
       "      <td>0</td>\n",
       "      <td>107237</td>\n",
       "    </tr>\n",
       "    <tr>\n",
       "      <th>8</th>\n",
       "      <td>45168</td>\n",
       "      <td>1041077474</td>\n",
       "      <td>0</td>\n",
       "      <td>1</td>\n",
       "      <td>105566</td>\n",
       "    </tr>\n",
       "    <tr>\n",
       "      <th>9</th>\n",
       "      <td>79653</td>\n",
       "      <td>1041077474</td>\n",
       "      <td>0</td>\n",
       "      <td>1</td>\n",
       "      <td>105566</td>\n",
       "    </tr>\n",
       "    <tr>\n",
       "      <th>10</th>\n",
       "      <td>103428</td>\n",
       "      <td>1041077524</td>\n",
       "      <td>1</td>\n",
       "      <td>0</td>\n",
       "      <td>666609</td>\n",
       "    </tr>\n",
       "    <tr>\n",
       "      <th>11</th>\n",
       "      <td>653736</td>\n",
       "      <td>1041077967</td>\n",
       "      <td>0</td>\n",
       "      <td>1</td>\n",
       "      <td>680404</td>\n",
       "    </tr>\n",
       "    <tr>\n",
       "      <th>12</th>\n",
       "      <td>68791</td>\n",
       "      <td>1041078067</td>\n",
       "      <td>0</td>\n",
       "      <td>1</td>\n",
       "      <td>559644</td>\n",
       "    </tr>\n",
       "    <tr>\n",
       "      <th>13</th>\n",
       "      <td>26373</td>\n",
       "      <td>1041078342</td>\n",
       "      <td>0</td>\n",
       "      <td>1</td>\n",
       "      <td>1782</td>\n",
       "    </tr>\n",
       "    <tr>\n",
       "      <th>14</th>\n",
       "      <td>171380</td>\n",
       "      <td>1041078567</td>\n",
       "      <td>1</td>\n",
       "      <td>0</td>\n",
       "      <td>607600</td>\n",
       "    </tr>\n",
       "  </tbody>\n",
       "</table>\n",
       "</div>"
      ],
      "text/plain": [
       "    ID_CommunityIdentity  ID_Posting  VoteNegative  VotePositive  ID_Poster\n",
       "0                 675862  1041076570             1             0     691035\n",
       "1                 689023  1041076570             1             0     691035\n",
       "2                  24810  1041076745             0             1     581068\n",
       "3                 673781  1041076745             0             1     581068\n",
       "4                  24810  1041076831             0             1      76577\n",
       "5                  40177  1041076831             0             1      76577\n",
       "6                 581068  1041076831             0             1      76577\n",
       "7                  68791  1041077081             1             0     107237\n",
       "8                  45168  1041077474             0             1     105566\n",
       "9                  79653  1041077474             0             1     105566\n",
       "10                103428  1041077524             1             0     666609\n",
       "11                653736  1041077967             0             1     680404\n",
       "12                 68791  1041078067             0             1     559644\n",
       "13                 26373  1041078342             0             1       1782\n",
       "14                171380  1041078567             1             0     607600"
      ]
     },
     "execution_count": 14,
     "metadata": {},
     "output_type": "execute_result"
    }
   ],
   "source": [
    "votes_and_postings = data_votes.merge(data_postings, on=\"ID_Posting\", how=\"left\")\n",
    "votes_and_postings.head(15)"
   ]
  },
  {
   "cell_type": "code",
   "execution_count": 15,
   "metadata": {
    "pycharm": {
     "name": "#%%\n"
    }
   },
   "outputs": [],
   "source": [
    "pos_votes = votes_and_postings[votes_and_postings[\"VotePositive\"] == 1]\n",
    "neg_votes = votes_and_postings[votes_and_postings[\"VoteNegative\"] == 1]"
   ]
  },
  {
   "cell_type": "code",
   "execution_count": 16,
   "metadata": {
    "pycharm": {
     "name": "#%%\n"
    }
   },
   "outputs": [],
   "source": [
    "edge_list = np.dstack((\n",
    "    pos_votes[\"ID_CommunityIdentity\"].values,\n",
    "    pos_votes[\"ID_Poster\"].values\n",
    "))[0]\n",
    "edges_df = pd.DataFrame(edge_list, columns=[\"pos_voter\", \"poster\"])\n",
    "edges_df.to_csv(f\"{EDGES_PATH}pos_vote_edges.csv\", sep=\" \", index=False, header=False)"
   ]
  },
  {
   "cell_type": "code",
   "execution_count": 17,
   "metadata": {
    "pycharm": {
     "name": "#%%\n"
    }
   },
   "outputs": [],
   "source": [
    "edge_list = np.dstack((\n",
    "    neg_votes[\"ID_CommunityIdentity\"].values,\n",
    "    neg_votes[\"ID_Poster\"].values\n",
    "))[0]\n",
    "edges_df = pd.DataFrame(edge_list, columns=[\"neg_voter\", \"poster\"])\n",
    "edges_df.to_csv(f\"{EDGES_PATH}neg_vote_edges.csv\", sep=\" \", index=False, header=False)"
   ]
  },
  {
   "cell_type": "markdown",
   "metadata": {},
   "source": [
    "### Reply Network\n",
    "\n",
    "In this block we construct the reply network. Note that we do this by joining the postings data with itself, instead of the extremely inefficient loop presented in the hands-on exercise. A directed edge from node `v` to node `w` indicates that user `v` replied to a post made by user `w`. The weight of the edge will indicate the amount of times `v` commented on posts by `w`."
   ]
  },
  {
   "cell_type": "code",
   "execution_count": 18,
   "metadata": {
    "pycharm": {
     "name": "#%%\n"
    }
   },
   "outputs": [
    {
     "data": {
      "text/html": [
       "<div>\n",
       "<style scoped>\n",
       "    .dataframe tbody tr th:only-of-type {\n",
       "        vertical-align: middle;\n",
       "    }\n",
       "\n",
       "    .dataframe tbody tr th {\n",
       "        vertical-align: top;\n",
       "    }\n",
       "\n",
       "    .dataframe thead th {\n",
       "        text-align: right;\n",
       "    }\n",
       "</style>\n",
       "<table border=\"1\" class=\"dataframe\">\n",
       "  <thead>\n",
       "    <tr style=\"text-align: right;\">\n",
       "      <th></th>\n",
       "      <th>ID_Posting</th>\n",
       "      <th>ID_Posting_Parent</th>\n",
       "      <th>ID_CommunityIdentity</th>\n",
       "      <th>PostingHeadline</th>\n",
       "      <th>PostingComment</th>\n",
       "      <th>PostingCreatedAt</th>\n",
       "      <th>ID_Article</th>\n",
       "      <th>ArticlePublishingDate</th>\n",
       "      <th>ArticleTitle</th>\n",
       "      <th>ArticleChannel</th>\n",
       "      <th>ArticleRessortName</th>\n",
       "      <th>UserCommunityName</th>\n",
       "      <th>UserGender</th>\n",
       "      <th>UserCreatedAt</th>\n",
       "    </tr>\n",
       "  </thead>\n",
       "  <tbody>\n",
       "    <tr>\n",
       "      <th>0</th>\n",
       "      <td>1041073586</td>\n",
       "      <td>1.041073e+09</td>\n",
       "      <td>671476</td>\n",
       "      <td>Das hat gestern bereits der Voggenhuber angefü...</td>\n",
       "      <td>schieder hatte dem inhaltlich nichts entgegenz...</td>\n",
       "      <td>2019-05-01 18:21:15.127</td>\n",
       "      <td>2000102330973</td>\n",
       "      <td>2019-05-01 10:28:57.49</td>\n",
       "      <td>1. Mai in Wien: SPÖ fordert von Strache Rücktritt</td>\n",
       "      <td>Inland</td>\n",
       "      <td>Parteien</td>\n",
       "      <td>Ravenspower</td>\n",
       "      <td>NaN</td>\n",
       "      <td>2018-04-14 13:42:28.470</td>\n",
       "    </tr>\n",
       "    <tr>\n",
       "      <th>1</th>\n",
       "      <td>1041073839</td>\n",
       "      <td>1.041073e+09</td>\n",
       "      <td>566938</td>\n",
       "      <td>NaN</td>\n",
       "      <td>...und meinen Bezirk bekommst du als Erbe mit.</td>\n",
       "      <td>2019-05-01 18:28:22.040</td>\n",
       "      <td>2000102330973</td>\n",
       "      <td>2019-05-01 10:28:57.49</td>\n",
       "      <td>1. Mai in Wien: SPÖ fordert von Strache Rücktritt</td>\n",
       "      <td>Inland</td>\n",
       "      <td>Parteien</td>\n",
       "      <td>AlphaRomeo</td>\n",
       "      <td>m</td>\n",
       "      <td>2015-08-28 17:07:41.110</td>\n",
       "    </tr>\n",
       "    <tr>\n",
       "      <th>2</th>\n",
       "      <td>1041073872</td>\n",
       "      <td>1.041069e+09</td>\n",
       "      <td>669286</td>\n",
       "      <td>NaN</td>\n",
       "      <td>Nein, bei der ÖVP/FPÖ genauso passiert. Ich wo...</td>\n",
       "      <td>2019-05-01 18:29:05.533</td>\n",
       "      <td>2000102330973</td>\n",
       "      <td>2019-05-01 10:28:57.49</td>\n",
       "      <td>1. Mai in Wien: SPÖ fordert von Strache Rücktritt</td>\n",
       "      <td>Inland</td>\n",
       "      <td>Parteien</td>\n",
       "      <td>Hpolditsch</td>\n",
       "      <td>NaN</td>\n",
       "      <td>2018-03-06 20:03:42.737</td>\n",
       "    </tr>\n",
       "    <tr>\n",
       "      <th>3</th>\n",
       "      <td>1041080734</td>\n",
       "      <td>1.041080e+09</td>\n",
       "      <td>671476</td>\n",
       "      <td>Sie haben doch nichts gefordert??</td>\n",
       "      <td>sie haben nur die regierung kritisiert. das di...</td>\n",
       "      <td>2019-05-01 22:37:56.010</td>\n",
       "      <td>2000102330973</td>\n",
       "      <td>2019-05-01 10:28:57.49</td>\n",
       "      <td>1. Mai in Wien: SPÖ fordert von Strache Rücktritt</td>\n",
       "      <td>Inland</td>\n",
       "      <td>Parteien</td>\n",
       "      <td>Ravenspower</td>\n",
       "      <td>NaN</td>\n",
       "      <td>2018-04-14 13:42:28.470</td>\n",
       "    </tr>\n",
       "    <tr>\n",
       "      <th>4</th>\n",
       "      <td>1041080828</td>\n",
       "      <td>NaN</td>\n",
       "      <td>671476</td>\n",
       "      <td>Heute wäre der perfekte Tag für die SPÖ gewese...</td>\n",
       "      <td>ihr noch nicht erfülltes versprechen, den silb...</td>\n",
       "      <td>2019-05-01 22:42:06.310</td>\n",
       "      <td>2000102330973</td>\n",
       "      <td>2019-05-01 10:28:57.49</td>\n",
       "      <td>1. Mai in Wien: SPÖ fordert von Strache Rücktritt</td>\n",
       "      <td>Inland</td>\n",
       "      <td>Parteien</td>\n",
       "      <td>Ravenspower</td>\n",
       "      <td>NaN</td>\n",
       "      <td>2018-04-14 13:42:28.470</td>\n",
       "    </tr>\n",
       "  </tbody>\n",
       "</table>\n",
       "</div>"
      ],
      "text/plain": [
       "   ID_Posting  ID_Posting_Parent  ID_CommunityIdentity  \\\n",
       "0  1041073586       1.041073e+09                671476   \n",
       "1  1041073839       1.041073e+09                566938   \n",
       "2  1041073872       1.041069e+09                669286   \n",
       "3  1041080734       1.041080e+09                671476   \n",
       "4  1041080828                NaN                671476   \n",
       "\n",
       "                                     PostingHeadline  \\\n",
       "0  Das hat gestern bereits der Voggenhuber angefü...   \n",
       "1                                                NaN   \n",
       "2                                                NaN   \n",
       "3                  Sie haben doch nichts gefordert??   \n",
       "4  Heute wäre der perfekte Tag für die SPÖ gewese...   \n",
       "\n",
       "                                      PostingComment         PostingCreatedAt  \\\n",
       "0  schieder hatte dem inhaltlich nichts entgegenz...  2019-05-01 18:21:15.127   \n",
       "1     ...und meinen Bezirk bekommst du als Erbe mit.  2019-05-01 18:28:22.040   \n",
       "2  Nein, bei der ÖVP/FPÖ genauso passiert. Ich wo...  2019-05-01 18:29:05.533   \n",
       "3  sie haben nur die regierung kritisiert. das di...  2019-05-01 22:37:56.010   \n",
       "4  ihr noch nicht erfülltes versprechen, den silb...  2019-05-01 22:42:06.310   \n",
       "\n",
       "      ID_Article   ArticlePublishingDate  \\\n",
       "0  2000102330973  2019-05-01 10:28:57.49   \n",
       "1  2000102330973  2019-05-01 10:28:57.49   \n",
       "2  2000102330973  2019-05-01 10:28:57.49   \n",
       "3  2000102330973  2019-05-01 10:28:57.49   \n",
       "4  2000102330973  2019-05-01 10:28:57.49   \n",
       "\n",
       "                                        ArticleTitle ArticleChannel  \\\n",
       "0  1. Mai in Wien: SPÖ fordert von Strache Rücktritt         Inland   \n",
       "1  1. Mai in Wien: SPÖ fordert von Strache Rücktritt         Inland   \n",
       "2  1. Mai in Wien: SPÖ fordert von Strache Rücktritt         Inland   \n",
       "3  1. Mai in Wien: SPÖ fordert von Strache Rücktritt         Inland   \n",
       "4  1. Mai in Wien: SPÖ fordert von Strache Rücktritt         Inland   \n",
       "\n",
       "  ArticleRessortName UserCommunityName UserGender            UserCreatedAt  \n",
       "0           Parteien       Ravenspower        NaN  2018-04-14 13:42:28.470  \n",
       "1           Parteien        AlphaRomeo          m  2015-08-28 17:07:41.110  \n",
       "2           Parteien        Hpolditsch        NaN  2018-03-06 20:03:42.737  \n",
       "3           Parteien       Ravenspower        NaN  2018-04-14 13:42:28.470  \n",
       "4           Parteien       Ravenspower        NaN  2018-04-14 13:42:28.470  "
      ]
     },
     "execution_count": 18,
     "metadata": {},
     "output_type": "execute_result"
    }
   ],
   "source": [
    "data_postings = pd.read_csv(POSTINGS_PATH, sep=\";\")\n",
    "data_postings.head()"
   ]
  },
  {
   "cell_type": "code",
   "execution_count": 19,
   "metadata": {
    "pycharm": {
     "name": "#%%\n"
    }
   },
   "outputs": [],
   "source": [
    "data_postings_1 = data_postings[[\"ID_Posting\", \"ID_Posting_Parent\", \"ID_CommunityIdentity\"]].rename(columns={\"ID_Posting_Parent\": \"ID_OriginalPost\", \"ID_CommunityIdentity\": \"ID_Replier\"})\n",
    "\n",
    "data_postings_2 = data_postings[[\"ID_Posting\", \"ID_CommunityIdentity\"]].rename(columns={\"ID_Posting\": \"ID_OriginalPost\", \"ID_CommunityIdentity\": \"ID_Poster\"})\n",
    "\n",
    "del data_postings"
   ]
  },
  {
   "cell_type": "code",
   "execution_count": 20,
   "metadata": {
    "pycharm": {
     "name": "#%%\n"
    }
   },
   "outputs": [],
   "source": [
    "data_postings_1.dropna(inplace=True)"
   ]
  },
  {
   "cell_type": "code",
   "execution_count": 21,
   "metadata": {
    "pycharm": {
     "name": "#%%\n"
    }
   },
   "outputs": [],
   "source": [
    "data_postings_1[\"ID_OriginalPost\"] = data_postings_1[\"ID_OriginalPost\"].astype(np.int64)"
   ]
  },
  {
   "cell_type": "code",
   "execution_count": 22,
   "metadata": {
    "pycharm": {
     "name": "#%%\n"
    }
   },
   "outputs": [
    {
     "data": {
      "text/html": [
       "<div>\n",
       "<style scoped>\n",
       "    .dataframe tbody tr th:only-of-type {\n",
       "        vertical-align: middle;\n",
       "    }\n",
       "\n",
       "    .dataframe tbody tr th {\n",
       "        vertical-align: top;\n",
       "    }\n",
       "\n",
       "    .dataframe thead th {\n",
       "        text-align: right;\n",
       "    }\n",
       "</style>\n",
       "<table border=\"1\" class=\"dataframe\">\n",
       "  <thead>\n",
       "    <tr style=\"text-align: right;\">\n",
       "      <th></th>\n",
       "      <th>ID_Posting</th>\n",
       "      <th>ID_OriginalPost</th>\n",
       "      <th>ID_Replier</th>\n",
       "      <th>ID_Poster</th>\n",
       "    </tr>\n",
       "  </thead>\n",
       "  <tbody>\n",
       "    <tr>\n",
       "      <th>0</th>\n",
       "      <td>1041073586</td>\n",
       "      <td>1041073234</td>\n",
       "      <td>671476</td>\n",
       "      <td>233191</td>\n",
       "    </tr>\n",
       "    <tr>\n",
       "      <th>1</th>\n",
       "      <td>1041073839</td>\n",
       "      <td>1041072504</td>\n",
       "      <td>566938</td>\n",
       "      <td>640123</td>\n",
       "    </tr>\n",
       "    <tr>\n",
       "      <th>2</th>\n",
       "      <td>1041073872</td>\n",
       "      <td>1041068600</td>\n",
       "      <td>669286</td>\n",
       "      <td>680772</td>\n",
       "    </tr>\n",
       "    <tr>\n",
       "      <th>3</th>\n",
       "      <td>1041080734</td>\n",
       "      <td>1041080236</td>\n",
       "      <td>671476</td>\n",
       "      <td>51817</td>\n",
       "    </tr>\n",
       "    <tr>\n",
       "      <th>4</th>\n",
       "      <td>1041080938</td>\n",
       "      <td>1041080782</td>\n",
       "      <td>671476</td>\n",
       "      <td>678196</td>\n",
       "    </tr>\n",
       "  </tbody>\n",
       "</table>\n",
       "</div>"
      ],
      "text/plain": [
       "   ID_Posting  ID_OriginalPost  ID_Replier  ID_Poster\n",
       "0  1041073586       1041073234      671476     233191\n",
       "1  1041073839       1041072504      566938     640123\n",
       "2  1041073872       1041068600      669286     680772\n",
       "3  1041080734       1041080236      671476      51817\n",
       "4  1041080938       1041080782      671476     678196"
      ]
     },
     "execution_count": 22,
     "metadata": {},
     "output_type": "execute_result"
    }
   ],
   "source": [
    "replies = data_postings_1.merge(data_postings_2, on=\"ID_OriginalPost\", how=\"left\")\n",
    "replies.dropna(inplace=True)\n",
    "replies[\"ID_Poster\"] = replies[\"ID_Poster\"].astype(np.int64)\n",
    "replies.head()"
   ]
  },
  {
   "cell_type": "code",
   "execution_count": 23,
   "metadata": {
    "pycharm": {
     "name": "#%%\n"
    }
   },
   "outputs": [],
   "source": [
    "edge_list = np.dstack((\n",
    "    replies[\"ID_Replier\"].values,\n",
    "    replies[\"ID_Poster\"].values\n",
    "))[0]\n",
    "unique, count = np.unique(edge_list, axis=0, return_counts=True)\n",
    "count = count.reshape((-1, 1))\n",
    "weighted_edge_list = np.append(unique, count, axis=1)\n",
    "edges_df = pd.DataFrame(weighted_edge_list, columns=[\"replier\", \"poster\", \"count\"])\n",
    "edges_df.to_csv(f\"{EDGES_PATH}reply_edges.csv\", sep=\" \", index=False, header=False)"
   ]
  }
 ],
 "metadata": {
  "kernelspec": {
   "display_name": "Python 3",
   "language": "python",
   "name": "python3"
  },
  "language_info": {
   "codemirror_mode": {
    "name": "ipython",
    "version": 3
   },
   "file_extension": ".py",
   "mimetype": "text/x-python",
   "name": "python",
   "nbconvert_exporter": "python",
   "pygments_lexer": "ipython3",
   "version": "3.8.12"
  }
 },
 "nbformat": 4,
 "nbformat_minor": 1
}
