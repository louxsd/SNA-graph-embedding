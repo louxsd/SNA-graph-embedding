{
 "cells": [
  {
   "cell_type": "code",
   "execution_count": 23,
   "metadata": {},
   "outputs": [],
   "source": [
    "import numpy as np\n",
    "import pandas as pd\n",
    "\n",
    "from stellargraph import StellarGraph\n",
    "from stellargraph.data import EdgeSplitter\n",
    "\n",
    "from sklearn.model_selection import train_test_split\n",
    "from sklearn.pipeline import Pipeline\n",
    "from sklearn.linear_model import LogisticRegressionCV\n",
    "from sklearn.metrics import roc_auc_score, f1_score\n",
    "from sklearn.preprocessing import StandardScaler\n",
    "from sklearn.linear_model import LogisticRegressionCV"
   ]
  },
  {
   "cell_type": "code",
   "execution_count": 2,
   "metadata": {},
   "outputs": [],
   "source": [
    "DATASET_PATH = \"dataset/\"\n",
    "EDGES_PATH = f\"{DATASET_PATH}edges/\"\n",
    "EMBEDDINGS_PATH = f\"{DATASET_PATH}embeddings/\"\n",
    "TRAIN_TEST_GRAPHS_PATH = f\"{DATASET_PATH}train_test_graphs/\"\n",
    "FOLLOW_NET_PATH = f\"{EDGES_PATH}follow_edges.csv\"\n",
    "IGNORE_NET_PATH = f\"{EDGES_PATH}ignore_edges.csv\"\n",
    "POS_VOTE_NET_PATH = f\"{EDGES_PATH}pos_vote_edges.csv\"\n",
    "NEG_VOTE_NET_PATH = f\"{EDGES_PATH}neg_vote_edges.csv\"\n",
    "REPLY_NET_PATH = f\"{EDGES_PATH}reply_edges.csv\""
   ]
  },
  {
   "cell_type": "code",
   "execution_count": 3,
   "metadata": {},
   "outputs": [],
   "source": [
    "follow_edges = pd.read_csv(FOLLOW_NET_PATH, sep=\" \", header=None, names=[\"source\", \"target\"])\n",
    "ignore_edges = pd.read_csv(IGNORE_NET_PATH, sep=\" \", header=None, names=[\"source\", \"target\"])\n",
    "pos_vote_edges = pd.read_csv(POS_VOTE_NET_PATH, sep=\" \", header=None, names=[\"source\", \"target\"])\n",
    "neg_vote_edges = pd.read_csv(NEG_VOTE_NET_PATH, sep=\" \", header=None, names=[\"source\", \"target\"])\n",
    "reply_edges = pd.read_csv(REPLY_NET_PATH, sep=\" \", header=None, names=[\"source\", \"target\", \"weight\"])"
   ]
  },
  {
   "cell_type": "markdown",
   "metadata": {},
   "source": [
    "## Step 1 Prepare StellarGraph Object"
   ]
  },
  {
   "cell_type": "code",
   "execution_count": 4,
   "metadata": {},
   "outputs": [
    {
     "name": "stdout",
     "output_type": "stream",
     "text": [
      "StellarGraph: Directed multigraph\n",
      " Nodes: 15530, Edges: 57117\n",
      "\n",
      " Node types:\n",
      "  default: [15530]\n",
      "    Features: none\n",
      "    Edge types: default-default->default\n",
      "\n",
      " Edge types:\n",
      "    default-default->default: [57117]\n",
      "        Weights: all 1 (default)\n",
      "        Features: none\n"
     ]
    }
   ],
   "source": [
    "# Create StellarGraph object from edge list data \n",
    "G = StellarGraph(edges=follow_edges, is_directed=True)\n",
    "print(G.info())\n",
    "\n",
    "# Constants\n",
    "NETWORK_NAME = \"follow\"\n",
    "SAMPLING_PERCENTAGE = 0.1\n",
    "TRAIN_SIZE = 0.8\n",
    "DEV_SIZE = 1-TRAIN_SIZE # Fixed"
   ]
  },
  {
   "cell_type": "code",
   "execution_count": 5,
   "metadata": {},
   "outputs": [],
   "source": [
    "import random\n",
    "\n",
    "SEED = 42\n",
    "np.random.seed(SEED)\n",
    "random.seed(SEED)"
   ]
  },
  {
   "cell_type": "markdown",
   "metadata": {},
   "source": [
    "## Step 2 Define Test, Train & Dev Split\n",
    "\n",
    "Just like with regular machine learning, we have to split the data, in order to correctly train and evaluate the results, without data leakage.\n",
    "We need the following components:\n",
    "\n",
    "- Train Graph: `G_train`; We compute node embeddings on this graph.\n",
    "- Training Set: `examples_train` (labels are `labels_train`); A training set of positive and negative edges. These edges must not be used to compute node embeddings.\n",
    "- Dev Set: `examples_dev` (labels are `labels_dev`); \n",
    "- Test Graph: `G_test`; We compute test node embeddings on this graph, which contains more edges than the train graph.\n",
    "- Test Set: `examples_test` (labels are `labels_test`); A test set of positive and negative edges. These edges must not be used to compute test node embeddings and also not be part of the training or dev set.\n"
   ]
  },
  {
   "cell_type": "code",
   "execution_count": 6,
   "metadata": {},
   "outputs": [
    {
     "name": "stdout",
     "output_type": "stream",
     "text": [
      "** Sampled 5711 positive and 5711 negative edges. **\n",
      "StellarDiGraph: Directed multigraph\n",
      " Nodes: 15530, Edges: 51406\n",
      "\n",
      " Node types:\n",
      "  default: [15530]\n",
      "    Features: none\n",
      "    Edge types: default-default->default\n",
      "\n",
      " Edge types:\n",
      "    default-default->default: [51406]\n",
      "        Weights: all 1 (default)\n",
      "        Features: none\n",
      "(11422, 2)\n"
     ]
    }
   ],
   "source": [
    "# Define an edge splitter on the full graph for the test graph creation\n",
    "edge_splitter_test = EdgeSplitter(G)\n",
    "\n",
    "# Randomly select SAMPLING_PERCENTAGE of all positive links and same number of negative links\n",
    "# from full graph and save the reduced graph as G_test (does not contain sampled links)\n",
    "G_test, examples_test, labels_test = edge_splitter_test.train_test_split(\n",
    "    p=SAMPLING_PERCENTAGE,\n",
    "    method=\"global\",\n",
    "    seed=SEED\n",
    ")\n",
    "\n",
    "print(G_test.info())\n",
    "print(examples_test.shape)"
   ]
  },
  {
   "cell_type": "code",
   "execution_count": 7,
   "metadata": {},
   "outputs": [
    {
     "name": "stdout",
     "output_type": "stream",
     "text": [
      "** Sampled 5140 positive and 5140 negative edges. **\n",
      "StellarDiGraph: Directed multigraph\n",
      " Nodes: 15530, Edges: 46266\n",
      "\n",
      " Node types:\n",
      "  default: [15530]\n",
      "    Features: none\n",
      "    Edge types: default-default->default\n",
      "\n",
      " Edge types:\n",
      "    default-default->default: [46266]\n",
      "        Weights: all 1 (default)\n",
      "        Features: none\n",
      "(10280, 2)\n"
     ]
    }
   ],
   "source": [
    "# Define an edge splitter on the test graph for the train graph creation\n",
    "edge_splitter_train = EdgeSplitter(G_test, G)\n",
    "\n",
    "# Randomly select SAMPLING_PERCENTAGE of all positive links and same number of negative links\n",
    "# from test graph reduced graph as graph_train\n",
    "G_train, examples_train_dev, labels_train_dev = edge_splitter_train.train_test_split(\n",
    "    p=SAMPLING_PERCENTAGE,\n",
    "    method=\"global\",\n",
    "    seed=SEED\n",
    ")\n",
    "\n",
    "print(G_train.info())\n",
    "print(examples_train_dev.shape)"
   ]
  },
  {
   "cell_type": "code",
   "execution_count": 8,
   "metadata": {},
   "outputs": [
    {
     "data": {
      "text/html": [
       "<div>\n",
       "<style scoped>\n",
       "    .dataframe tbody tr th:only-of-type {\n",
       "        vertical-align: middle;\n",
       "    }\n",
       "\n",
       "    .dataframe tbody tr th {\n",
       "        vertical-align: top;\n",
       "    }\n",
       "\n",
       "    .dataframe thead th {\n",
       "        text-align: right;\n",
       "    }\n",
       "</style>\n",
       "<table border=\"1\" class=\"dataframe\">\n",
       "  <thead>\n",
       "    <tr style=\"text-align: right;\">\n",
       "      <th></th>\n",
       "      <th>Examples</th>\n",
       "      <th>Picked from</th>\n",
       "      <th>Purpose</th>\n",
       "    </tr>\n",
       "    <tr>\n",
       "      <th>Type</th>\n",
       "      <th></th>\n",
       "      <th></th>\n",
       "      <th></th>\n",
       "    </tr>\n",
       "  </thead>\n",
       "  <tbody>\n",
       "    <tr>\n",
       "      <th>Train set</th>\n",
       "      <td>8224</td>\n",
       "      <td>Test Graph</td>\n",
       "      <td>Train link classifier</td>\n",
       "    </tr>\n",
       "    <tr>\n",
       "      <th>Dev set</th>\n",
       "      <td>2056</td>\n",
       "      <td>Test Graph</td>\n",
       "      <td>Select best link classfier</td>\n",
       "    </tr>\n",
       "    <tr>\n",
       "      <th>Test set</th>\n",
       "      <td>11422</td>\n",
       "      <td>Full Graph</td>\n",
       "      <td>Evaluate best link classier</td>\n",
       "    </tr>\n",
       "  </tbody>\n",
       "</table>\n",
       "</div>"
      ],
      "text/plain": [
       "           Examples Picked from                      Purpose\n",
       "Type                                                        \n",
       "Train set      8224  Test Graph        Train link classifier\n",
       "Dev set        2056  Test Graph   Select best link classfier\n",
       "Test set      11422  Full Graph  Evaluate best link classier"
      ]
     },
     "execution_count": 8,
     "metadata": {},
     "output_type": "execute_result"
    }
   ],
   "source": [
    "# Actual train-test-split with sklearn\n",
    "(\n",
    "    examples_train,\n",
    "    examples_dev,\n",
    "    labels_train,\n",
    "    labels_dev,\n",
    ") = train_test_split(\n",
    "    examples_train_dev,\n",
    "    labels_train_dev,\n",
    "    train_size=TRAIN_SIZE,\n",
    "    test_size=DEV_SIZE,\n",
    "    random_state=SEED\n",
    ")\n",
    "\n",
    "overview_train_textsplit = pd.DataFrame(\n",
    "    [\n",
    "        (\n",
    "            \"Train set\",\n",
    "            len(examples_train),\n",
    "            \"Test Graph\",\n",
    "            \"Train link classifier\",\n",
    "        ),\n",
    "        (\n",
    "            \"Dev set\",\n",
    "            len(examples_dev),\n",
    "            \"Test Graph\",\n",
    "            \"Select best link classfier\",\n",
    "        ),\n",
    "        (\n",
    "            \"Test set\",\n",
    "            len(examples_test),\n",
    "            \"Full Graph\",\n",
    "            \"Evaluate best link classier\",\n",
    "        )\n",
    "    ],\n",
    "    columns=(\"Type\", \"Examples\", \"Picked from\", \"Purpose\"),\n",
    ")\n",
    "\n",
    "overview_train_textsplit.set_index(\"Type\", inplace=True)\n",
    "overview_train_textsplit"
   ]
  },
  {
   "cell_type": "markdown",
   "metadata": {},
   "source": [
    "Save the train and test graph as an edgelist, such that OpenNE can use it as input to produce embeddings."
   ]
  },
  {
   "cell_type": "code",
   "execution_count": 9,
   "metadata": {},
   "outputs": [],
   "source": [
    "G_follow_train_df = pd.DataFrame(G_train.edges())\n",
    "G_follow_train_df.to_csv(f\"{TRAIN_TEST_GRAPHS_PATH}{NETWORK_NAME}_train.csv\", sep=\" \", header=False, index=False)\n",
    "\n",
    "G_follow_test_df = pd.DataFrame(G_test.edges())\n",
    "G_follow_test_df.to_csv(f\"{TRAIN_TEST_GRAPHS_PATH}{NETWORK_NAME}_test.csv\", sep=\" \", header=False, index=False)"
   ]
  },
  {
   "cell_type": "markdown",
   "metadata": {},
   "source": [
    "## Step 3 Embeddings\n",
    "\n",
    "### 3.1 Embeddings with OpenNE\n",
    "\n",
    "The following cell constructs the OpenNE commands that have to be run, in order to produce the embeddings needed in the next step."
   ]
  },
  {
   "cell_type": "code",
   "execution_count": 103,
   "metadata": {},
   "outputs": [],
   "source": [
    "EMBEDDING_METHOD = \"sdne\"\n",
    "PARAMS = {\n",
    "    \"encoder-list\": [8192, 128],\n",
    "    \"alpha\": 1e-6,\n",
    "    \"beta\": 10,\n",
    "    \"bs\": 16,\n",
    "    \"nu1\": 1e-3,\n",
    "    \"nu2\": 1e-2,\n",
    "    \"lr\": 0.000001\n",
    "}"
   ]
  },
  {
   "cell_type": "code",
   "execution_count": 104,
   "metadata": {},
   "outputs": [],
   "source": [
    "with open(f\"{EMBEDDINGS_PATH}{EMBEDDING_METHOD}{'_params2' if PARAMS else ''}.sh\", \"w\") as f:\n",
    "    for mode in [\"train\", \"test\"]:\n",
    "        openne_cmd = f\"\"\"python -m openne --method {EMBEDDING_METHOD}\n",
    "        --directed --graph-format edgelist\n",
    "        --input {TRAIN_TEST_GRAPHS_PATH}{NETWORK_NAME}_{mode}.csv\n",
    "        --output {EMBEDDINGS_PATH}{NETWORK_NAME}_{mode}_{EMBEDDING_METHOD}{'_params2' if PARAMS else ''}.txt\n",
    "        {\" \".join(f\"--{key} {value}\" for key, value in PARAMS.items())}\"\"\"\n",
    "        openne_cmd_stripped = openne_cmd.replace(\"\\n    \", \" \")\n",
    "        print(openne_cmd_stripped, file=f)"
   ]
  },
  {
   "cell_type": "code",
   "execution_count": 109,
   "metadata": {},
   "outputs": [
    {
     "name": "stdout",
     "output_type": "stream",
     "text": [
      "dataset/embeddings/follow_train_sdne_params2.txt\n",
      "dataset/embeddings/follow_test_sdne_params2.txt\n"
     ]
    }
   ],
   "source": [
    "# This class wraps a given embedding, such that the embedding vector of any node can\n",
    "# easily be looked up\n",
    "class Embedding():\n",
    "    def __init__(self, embedding_file):\n",
    "        self.embedding_file = embedding_file\n",
    "        self.embedding_df = pd.read_csv(embedding_file, sep=\" \", header=None, skiprows=[0])\n",
    "\n",
    "    def get_embedding(self, node):\n",
    "        row = self.embedding_df[self.embedding_df[0] == node]\n",
    "        row = np.reshape(row.to_numpy(), -1)[1:]\n",
    "        if len(row) == 0:\n",
    "            row = np.random.uniform(low=-1, high=1, size=(128,))\n",
    "        return row\n",
    "\n",
    "    def __str__(self):\n",
    "        return self.embedding_file\n",
    "\n",
    "embedding_train = Embedding(f\"{EMBEDDINGS_PATH}{NETWORK_NAME}_train_{EMBEDDING_METHOD}{'_params' if PARAMS else ''}.txt\")\n",
    "embedding_test = Embedding(f\"{EMBEDDINGS_PATH}{NETWORK_NAME}_test_{EMBEDDING_METHOD}{'_params' if PARAMS else ''}.txt\")\n",
    "print(embedding_train)\n",
    "print(embedding_test)"
   ]
  },
  {
   "cell_type": "markdown",
   "metadata": {},
   "source": [
    "### 3.2 GCN"
   ]
  },
  {
   "cell_type": "code",
   "execution_count": null,
   "metadata": {},
   "outputs": [],
   "source": [
    "from stellargraph.mapper import FullBatchLinkGenerator\n",
    "from stellargraph.layer import GCN, LinkEmbedding\n",
    "from stellargraph.utils import plot_history\n",
    "from tensorflow import keras\n",
    "\n",
    "epochs = 30\n",
    "train_generator = FullBatchLinkGenerator(G_train, method=\"gcn\")\n",
    "train_flow = train_generator.flow(examples_train_dev, labels_train_dev)\n",
    "test_generator = FullBatchLinkGenerator(G_test, method=\"gcn\")\n",
    "test_flow = test_generator.flow(examples_test, labels_test)\n",
    "\n",
    "gcn = GCN(\n",
    "    layer_sizes=[16, 16],\n",
    "    activations=[\"relu\", \"relu\"],\n",
    "    generator=train_generator,\n",
    "    dropout=0.3\n",
    ")\n",
    "\n",
    "x_input, x_output = gcn.in_out_tensors()\n",
    "prediction = LinkEmbedding(activation=\"relu\", method=\"ip\")(x_output)\n",
    "prediction = keras.layers.Reshape((-1,))(prediction)\n",
    "\n",
    "model = keras.Model(inputs=x_input, outputs=prediction)\n",
    "\n",
    "model.compile(\n",
    "    optimizer=keras.optimizers.Adam(lr=0.01),\n",
    "    loss=keras.losses.binary_crossentropy,\n",
    "    metrics=[\"AUC\"],\n",
    ")\n",
    "\n",
    "init_train_metrics = model.evaluate(train_flow)\n",
    "init_test_metrics = model.evaluate(test_flow)\n",
    "\n",
    "print(\"\\nTrain Set Metrics of the initial (untrained) model:\")\n",
    "for name, val in zip(model.metrics_names, init_train_metrics):\n",
    "    print(f\"\\t{name}: {val:0.4f}\")\n",
    "\n",
    "print(\"\\nTest Set Metrics of the initial (untrained) model:\")\n",
    "for name, val in zip(model.metrics_names, init_test_metrics):\n",
    "    print(f\"\\t{name}: {val:0.4f}\")\n",
    "\n",
    "history = model.fit(\n",
    "    train_flow, epochs=epochs, validation_data=test_flow, verbose=2, shuffle=False\n",
    ")\n",
    "\n",
    "plot_history(history)"
   ]
  },
  {
   "cell_type": "markdown",
   "metadata": {},
   "source": [
    "## Step 4 Link Prediction"
   ]
  },
  {
   "cell_type": "code",
   "execution_count": 110,
   "metadata": {},
   "outputs": [],
   "source": [
    "# This method calculates link embeddings, by applying a binary operator\n",
    "# to the embeddings of the source and destination nodes of the link\n",
    "# These link embeddings will be the features for link prediction\n",
    "def link_examples_to_features(link_examples, embedding, binary_operator):\n",
    "    features = []\n",
    "    for src, dst in link_examples:\n",
    "        features.append(\n",
    "            binary_operator(\n",
    "                embedding.get_embedding(src),\n",
    "                embedding.get_embedding(dst)\n",
    "            )\n",
    "        )\n",
    "    return features\n",
    "\n",
    "# This method trains the link classifier\n",
    "def train_link_prediction_model(link_examples, link_labels, embedding, binary_operator):\n",
    "    clf = get_link_prediction_classifier()\n",
    "    link_features = link_examples_to_features(\n",
    "        link_examples, embedding, binary_operator\n",
    "    )\n",
    "    clf.fit(link_features, link_labels)\n",
    "    return clf\n",
    "\n",
    "# This method defines the classifier pipeline\n",
    "def get_link_prediction_classifier(max_iter=2000):\n",
    "    lr_clf = LogisticRegressionCV(\n",
    "        cv=5,\n",
    "        scoring=\"roc_auc\",\n",
    "        max_iter=max_iter,\n",
    "        random_state=SEED\n",
    "    )\n",
    "    return Pipeline(steps=[(\"sc\", StandardScaler()), (\"clf\", lr_clf)])"
   ]
  },
  {
   "cell_type": "code",
   "execution_count": 111,
   "metadata": {},
   "outputs": [],
   "source": [
    "# This method evaluates the classifier\n",
    "def evaluate_link_prediction_model(clf, link_examples_test, link_labels_test, embedding, binary_operator):\n",
    "    link_features_test = link_examples_to_features(\n",
    "        link_examples_test, embedding, binary_operator\n",
    "    )\n",
    "    score = evaluate_roc_auc(clf, link_features_test, link_labels_test)\n",
    "    return score\n",
    "\n",
    "# This method computes the ROC AUC score for predictions\n",
    "def evaluate_roc_auc(clf, link_features, link_labels):\n",
    "    predicted = clf.predict_proba(link_features)\n",
    "\n",
    "    # Check which class corresponds to positive links\n",
    "    positive_column = list(clf.classes_).index(1)\n",
    "    return roc_auc_score(link_labels, predicted[:, positive_column])"
   ]
  },
  {
   "cell_type": "code",
   "execution_count": 112,
   "metadata": {},
   "outputs": [],
   "source": [
    "# Binary operators for the combination of the embeddings of linked nodes\n",
    "def operator_hadamard(u, v):\n",
    "    return u * v\n",
    "\n",
    "def operator_l1(u, v):\n",
    "    return np.abs(u - v)\n",
    "\n",
    "def operator_l2(u, v):\n",
    "    return (u - v) ** 2\n",
    "\n",
    "def operator_avg(u, v):\n",
    "    return (u + v) / 2.0\n",
    "\n",
    "def run_link_prediction(binary_operator, embedding):\n",
    "    clf = train_link_prediction_model(\n",
    "        examples_train, labels_train, embedding, binary_operator\n",
    "    )\n",
    "    score = evaluate_link_prediction_model(\n",
    "        clf,\n",
    "        examples_dev,\n",
    "        labels_dev,\n",
    "        embedding,\n",
    "        binary_operator,\n",
    "    )\n",
    "\n",
    "    return {\n",
    "        \"classifier\": clf,\n",
    "        \"binary_operator\": binary_operator,\n",
    "        \"score\": score,\n",
    "    }"
   ]
  },
  {
   "cell_type": "code",
   "execution_count": 113,
   "metadata": {},
   "outputs": [
    {
     "name": "stdout",
     "output_type": "stream",
     "text": [
      "Best result from 'operator_avg'\n"
     ]
    },
    {
     "data": {
      "text/html": [
       "<div>\n",
       "<style scoped>\n",
       "    .dataframe tbody tr th:only-of-type {\n",
       "        vertical-align: middle;\n",
       "    }\n",
       "\n",
       "    .dataframe tbody tr th {\n",
       "        vertical-align: top;\n",
       "    }\n",
       "\n",
       "    .dataframe thead th {\n",
       "        text-align: right;\n",
       "    }\n",
       "</style>\n",
       "<table border=\"1\" class=\"dataframe\">\n",
       "  <thead>\n",
       "    <tr style=\"text-align: right;\">\n",
       "      <th></th>\n",
       "      <th>ROC AUC score</th>\n",
       "    </tr>\n",
       "    <tr>\n",
       "      <th>binary operator</th>\n",
       "      <th></th>\n",
       "    </tr>\n",
       "  </thead>\n",
       "  <tbody>\n",
       "    <tr>\n",
       "      <th>operator_hadamard</th>\n",
       "      <td>0.814409</td>\n",
       "    </tr>\n",
       "    <tr>\n",
       "      <th>operator_l1</th>\n",
       "      <td>0.751871</td>\n",
       "    </tr>\n",
       "    <tr>\n",
       "      <th>operator_l2</th>\n",
       "      <td>0.747025</td>\n",
       "    </tr>\n",
       "    <tr>\n",
       "      <th>operator_avg</th>\n",
       "      <td>0.816009</td>\n",
       "    </tr>\n",
       "  </tbody>\n",
       "</table>\n",
       "</div>"
      ],
      "text/plain": [
       "                   ROC AUC score\n",
       "binary operator                 \n",
       "operator_hadamard       0.814409\n",
       "operator_l1             0.751871\n",
       "operator_l2             0.747025\n",
       "operator_avg            0.816009"
      ]
     },
     "execution_count": 113,
     "metadata": {},
     "output_type": "execute_result"
    }
   ],
   "source": [
    "binary_operators = [operator_hadamard, operator_l1, operator_l2, operator_avg]\n",
    "\n",
    "results = []\n",
    "for b_op in binary_operators:\n",
    "    res = run_link_prediction(b_op, embedding_train)\n",
    "    results.append(res)\n",
    "\n",
    "best_result = max(results, key=lambda result: result[\"score\"])\n",
    "\n",
    "print(f\"Best result from '{best_result['binary_operator'].__name__}'\")\n",
    "\n",
    "pd.DataFrame(\n",
    "    [(result[\"binary_operator\"].__name__, result[\"score\"]) for result in results],\n",
    "    columns=(\"binary operator\", \"ROC AUC score\"),\n",
    ").set_index(\"binary operator\")"
   ]
  },
  {
   "cell_type": "code",
   "execution_count": 114,
   "metadata": {},
   "outputs": [
    {
     "data": {
      "text/plain": [
       "{'classifier': Pipeline(steps=[('sc', StandardScaler()),\n",
       "                 ('clf',\n",
       "                  LogisticRegressionCV(cv=5, max_iter=2000, random_state=42,\n",
       "                                       scoring='roc_auc'))]),\n",
       " 'binary_operator': <function __main__.operator_avg(u, v)>,\n",
       " 'score': 0.8160085098087092}"
      ]
     },
     "execution_count": 114,
     "metadata": {},
     "output_type": "execute_result"
    }
   ],
   "source": [
    "best_result"
   ]
  },
  {
   "cell_type": "code",
   "execution_count": 115,
   "metadata": {},
   "outputs": [
    {
     "name": "stdout",
     "output_type": "stream",
     "text": [
      "0.827033\n"
     ]
    }
   ],
   "source": [
    "test_score = evaluate_link_prediction_model(\n",
    "    best_result[\"classifier\"],\n",
    "    examples_test,\n",
    "    labels_test,\n",
    "    embedding_test,\n",
    "    best_result[\"binary_operator\"]\n",
    ")\n",
    "print(round(test_score, 6))"
   ]
  },
  {
   "cell_type": "markdown",
   "metadata": {},
   "source": [
    "## Results"
   ]
  },
  {
   "cell_type": "code",
   "execution_count": 116,
   "metadata": {},
   "outputs": [
    {
     "data": {
      "text/html": [
       "<div>\n",
       "<style scoped>\n",
       "    .dataframe tbody tr th:only-of-type {\n",
       "        vertical-align: middle;\n",
       "    }\n",
       "\n",
       "    .dataframe tbody tr th {\n",
       "        vertical-align: top;\n",
       "    }\n",
       "\n",
       "    .dataframe thead th {\n",
       "        text-align: right;\n",
       "    }\n",
       "</style>\n",
       "<table border=\"1\" class=\"dataframe\">\n",
       "  <thead>\n",
       "    <tr style=\"text-align: right;\">\n",
       "      <th></th>\n",
       "      <th>embedding</th>\n",
       "      <th>operator</th>\n",
       "      <th>dev</th>\n",
       "      <th>test</th>\n",
       "    </tr>\n",
       "  </thead>\n",
       "  <tbody>\n",
       "    <tr>\n",
       "      <th>0</th>\n",
       "      <td>node2vec_params</td>\n",
       "      <td>operator_avg</td>\n",
       "      <td>0.813609</td>\n",
       "      <td>0.645681</td>\n",
       "    </tr>\n",
       "    <tr>\n",
       "      <th>1</th>\n",
       "      <td>node2vec</td>\n",
       "      <td>operator_avg</td>\n",
       "      <td>0.805272</td>\n",
       "      <td>0.437873</td>\n",
       "    </tr>\n",
       "    <tr>\n",
       "      <th>2</th>\n",
       "      <td>deepWalk_params</td>\n",
       "      <td>operator_avg</td>\n",
       "      <td>0.782664</td>\n",
       "      <td>0.486813</td>\n",
       "    </tr>\n",
       "    <tr>\n",
       "      <th>3</th>\n",
       "      <td>deepWalk</td>\n",
       "      <td>operator_avg</td>\n",
       "      <td>0.799085</td>\n",
       "      <td>0.432583</td>\n",
       "    </tr>\n",
       "    <tr>\n",
       "      <th>4</th>\n",
       "      <td>line_params</td>\n",
       "      <td>operator_hadamard</td>\n",
       "      <td>0.779505</td>\n",
       "      <td>0.735184</td>\n",
       "    </tr>\n",
       "    <tr>\n",
       "      <th>5</th>\n",
       "      <td>line</td>\n",
       "      <td>operator_avg</td>\n",
       "      <td>0.794700</td>\n",
       "      <td>0.565123</td>\n",
       "    </tr>\n",
       "    <tr>\n",
       "      <th>6</th>\n",
       "      <td>hope</td>\n",
       "      <td>operator_avg</td>\n",
       "      <td>0.829788</td>\n",
       "      <td>0.457719</td>\n",
       "    </tr>\n",
       "    <tr>\n",
       "      <th>7</th>\n",
       "      <td>sdne_params</td>\n",
       "      <td>operator_avg</td>\n",
       "      <td>0.828398</td>\n",
       "      <td>0.833068</td>\n",
       "    </tr>\n",
       "    <tr>\n",
       "      <th>8</th>\n",
       "      <td>sdne</td>\n",
       "      <td>operator_avg</td>\n",
       "      <td>0.812131</td>\n",
       "      <td>0.691118</td>\n",
       "    </tr>\n",
       "    <tr>\n",
       "      <th>9</th>\n",
       "      <td>sdne_params2</td>\n",
       "      <td>operator_avg</td>\n",
       "      <td>0.816009</td>\n",
       "      <td>0.827033</td>\n",
       "    </tr>\n",
       "  </tbody>\n",
       "</table>\n",
       "</div>"
      ],
      "text/plain": [
       "         embedding           operator       dev      test\n",
       "0  node2vec_params       operator_avg  0.813609  0.645681\n",
       "1         node2vec       operator_avg  0.805272  0.437873\n",
       "2  deepWalk_params       operator_avg  0.782664  0.486813\n",
       "3         deepWalk       operator_avg  0.799085  0.432583\n",
       "4      line_params  operator_hadamard  0.779505  0.735184\n",
       "5             line       operator_avg  0.794700  0.565123\n",
       "6             hope       operator_avg  0.829788  0.457719\n",
       "7      sdne_params       operator_avg  0.828398  0.833068\n",
       "8             sdne       operator_avg  0.812131  0.691118\n",
       "9     sdne_params2       operator_avg  0.816009  0.827033"
      ]
     },
     "execution_count": 116,
     "metadata": {},
     "output_type": "execute_result"
    }
   ],
   "source": [
    "results_df = pd.read_csv(\"link_prediction_results.txt\", sep=\" \")\n",
    "results_df"
   ]
  }
 ],
 "metadata": {
  "interpreter": {
   "hash": "8f22ab010fe59c4a0b011cf1c37178baf4620baf73d9f55b658c3d64c5bc4f2f"
  },
  "kernelspec": {
   "display_name": "Python 3.8.12 64-bit ('sna-gen': conda)",
   "language": "python",
   "name": "python3"
  },
  "language_info": {
   "codemirror_mode": {
    "name": "ipython",
    "version": 3
   },
   "file_extension": ".py",
   "mimetype": "text/x-python",
   "name": "python",
   "nbconvert_exporter": "python",
   "pygments_lexer": "ipython3",
   "version": "3.8.12"
  },
  "orig_nbformat": 4
 },
 "nbformat": 4,
 "nbformat_minor": 2
}
